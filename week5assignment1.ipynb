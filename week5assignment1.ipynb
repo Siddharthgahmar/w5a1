{
 "cells": [
  {
   "cell_type": "markdown",
   "id": "eae6c48e-b9ea-408c-8933-0f723a6c1b8e",
   "metadata": {},
   "source": [
    "Q1- What is an Exception in python ? Write the difference between Exception and Syntax errors. "
   ]
  },
  {
   "cell_type": "markdown",
   "id": "f66b367b-2ca7-46b5-b97d-1bbc9b82b2e5",
   "metadata": {},
   "source": [
    "Ans-an exception is an error that occurs during the execution of a program. When a statement or expression encounters an exceptional condition, it raises an exception, which disrupts the normal flow of the program and transfers control to an exception handler.\n",
    "\n",
    "Exceptions are a way of handling errors or exceptional situations in a program. They allow you to write code that can gracefully recover from errors and continue executing, rather than abruptly terminating the program.\n",
    "\n",
    "Syntax errors, on the other hand, are errors that occur when you violate the syntax rules of the Python language. They are typically detected by the Python interpreter before the program is executed. Syntax errors prevent the program from running at all and need to be fixed before the code can be executed.\n",
    "\n",
    "Here are the main differences between exceptions and syntax errors:\n",
    "\n",
    "1.Occurrence: Exceptions occur during the execution of a program when a statement encounters an exceptional condition. Syntax errors occur before the program execution during the parsing phase when the Python interpreter detects a violation of the language syntax.\n",
    "\n",
    "2.Handling: Exceptions can be handled using try-except blocks, allowing you to catch and handle specific exceptions gracefully. Syntax errors cannot be handled in the same way since they prevent the program from running at all. Syntax errors must be fixed by correcting the code.\n",
    "\n",
    "3.Impact: Exceptions disrupt the normal flow of the program and transfer control to an exception handler, allowing you to handle the error and continue the execution of the program. Syntax errors prevent the program from executing altogether, and the code needs to be corrected before it can run."
   ]
  },
  {
   "cell_type": "markdown",
   "id": "e3c86b9c-c083-4c42-bc90-22cfb71f6638",
   "metadata": {},
   "source": [
    "Q2- What happens when an exception is not handled ? Explain with an example ?"
   ]
  },
  {
   "cell_type": "markdown",
   "id": "4a303b6f-7c6c-445f-843d-6be363892c83",
   "metadata": {},
   "source": [
    "Ans-When an exception is not handled in Python, it leads to the termination of the program and an error message called a traceback is displayed. The traceback provides information about the exception that occurred, including the type of exception, the line of code where it occurred, and the sequence of function calls that led to the exception.\n",
    "\n",
    "Here's an example to illustrate what happens when an exception is not handled:Ans-"
   ]
  },
  {
   "cell_type": "code",
   "execution_count": 1,
   "id": "c5b2dfc4-500a-45ea-a0f1-d06524424472",
   "metadata": {},
   "outputs": [
    {
     "ename": "ZeroDivisionError",
     "evalue": "division by zero",
     "output_type": "error",
     "traceback": [
      "\u001b[0;31m---------------------------------------------------------------------------\u001b[0m",
      "\u001b[0;31mZeroDivisionError\u001b[0m                         Traceback (most recent call last)",
      "Cell \u001b[0;32mIn[1], line 8\u001b[0m\n\u001b[1;32m      5\u001b[0m num1 \u001b[38;5;241m=\u001b[39m \u001b[38;5;241m10\u001b[39m\n\u001b[1;32m      6\u001b[0m num2 \u001b[38;5;241m=\u001b[39m \u001b[38;5;241m0\u001b[39m\n\u001b[0;32m----> 8\u001b[0m result \u001b[38;5;241m=\u001b[39m \u001b[43mdivide_numbers\u001b[49m\u001b[43m(\u001b[49m\u001b[43mnum1\u001b[49m\u001b[43m,\u001b[49m\u001b[43m \u001b[49m\u001b[43mnum2\u001b[49m\u001b[43m)\u001b[49m\n\u001b[1;32m      9\u001b[0m \u001b[38;5;28mprint\u001b[39m(\u001b[38;5;124m\"\u001b[39m\u001b[38;5;124mResult:\u001b[39m\u001b[38;5;124m\"\u001b[39m, result)\n",
      "Cell \u001b[0;32mIn[1], line 2\u001b[0m, in \u001b[0;36mdivide_numbers\u001b[0;34m(a, b)\u001b[0m\n\u001b[1;32m      1\u001b[0m \u001b[38;5;28;01mdef\u001b[39;00m \u001b[38;5;21mdivide_numbers\u001b[39m(a, b):\n\u001b[0;32m----> 2\u001b[0m     result \u001b[38;5;241m=\u001b[39m \u001b[43ma\u001b[49m\u001b[43m \u001b[49m\u001b[38;5;241;43m/\u001b[39;49m\u001b[43m \u001b[49m\u001b[43mb\u001b[49m\n\u001b[1;32m      3\u001b[0m     \u001b[38;5;28;01mreturn\u001b[39;00m result\n",
      "\u001b[0;31mZeroDivisionError\u001b[0m: division by zero"
     ]
    }
   ],
   "source": [
    "def divide_numbers(a, b):\n",
    "    result = a / b\n",
    "    return result\n",
    "\n",
    "num1 = 10\n",
    "num2 = 0\n",
    "\n",
    "result = divide_numbers(num1, num2)\n",
    "print(\"Result:\", result)\n"
   ]
  },
  {
   "cell_type": "markdown",
   "id": "46b69edc-0912-4ba4-a0e2-6bc80ddfe80e",
   "metadata": {},
   "source": [
    "Q3- Which Python statement are used to catch and handle exceptions ? Explain with an example."
   ]
  },
  {
   "cell_type": "markdown",
   "id": "b09de2d7-ea38-47e5-83d8-41aabfdc37e1",
   "metadata": {},
   "source": [
    "Ans-In Python, the try-except statement is used to catch and handle exceptions. The try block contains the code that might raise an exception, while the except block specifies the code to be executed when a specific exception is encountered. The except block can handle one or more types of exceptions.\n",
    "\n",
    "Here's an example to demonstrate the usage of try-except statement:"
   ]
  },
  {
   "cell_type": "code",
   "execution_count": 2,
   "id": "2f2b35e2-9c13-48ce-a3dc-9d39289a40f2",
   "metadata": {},
   "outputs": [
    {
     "name": "stdout",
     "output_type": "stream",
     "text": [
      "Error: Cannot divide by zero!\n"
     ]
    }
   ],
   "source": [
    "def divide_numbers(a, b):\n",
    "    try:\n",
    "        result = a / b\n",
    "        print(\"Result:\", result)\n",
    "    except ZeroDivisionError:\n",
    "        print(\"Error: Cannot divide by zero!\")\n",
    "\n",
    "num1 = 10\n",
    "num2 = 0\n",
    "\n",
    "divide_numbers(num1, num2)\n"
   ]
  },
  {
   "cell_type": "markdown",
   "id": "9c8ed109-b4d1-4f42-a975-69153361decb",
   "metadata": {},
   "source": [
    "Q4-Explain with an example :\n",
    "   a. try and else \n",
    "   b. finally\n",
    "   c. raise"
   ]
  },
  {
   "cell_type": "markdown",
   "id": "8681d865-8ceb-4c5e-8a7a-0a12f2353713",
   "metadata": {},
   "source": [
    "a-Try and else :The else block can be used along with the try-except statement to specify code that should be executed if no exceptions are raised within the try block. The else block is executed only when the try block completes without encountering any exceptions."
   ]
  },
  {
   "cell_type": "code",
   "execution_count": 3,
   "id": "dafc4fa7-b21c-4995-b652-d243c62881d6",
   "metadata": {},
   "outputs": [
    {
     "name": "stdout",
     "output_type": "stream",
     "text": [
      "Result: 5.0\n"
     ]
    }
   ],
   "source": [
    "def divide_numbers(a, b):\n",
    "    try:\n",
    "        result = a / b\n",
    "    except ZeroDivisionError:\n",
    "        print(\"Error: Cannot divide by zero!\")\n",
    "    else:\n",
    "        print(\"Result:\", result)\n",
    "\n",
    "num1 = 10\n",
    "num2 = 2\n",
    "\n",
    "divide_numbers(num1, num2)\n"
   ]
  },
  {
   "cell_type": "markdown",
   "id": "b62faaa1-a130-41cf-a8ad-3579bc8e20a1",
   "metadata": {},
   "source": [
    "b-Finally:The finally block is used in conjunction with the try-except statement and provides a section of code that will always be executed, regardless of whether an exception occurred or not. The code in the finally block ensures that necessary cleanup actions are performed, such as closing files or releasing resources"
   ]
  },
  {
   "cell_type": "code",
   "execution_count": 4,
   "id": "b1568f57-7b9b-42c7-a036-9b5ade05425a",
   "metadata": {},
   "outputs": [
    {
     "name": "stdout",
     "output_type": "stream",
     "text": [
      "Error: Cannot divide by zero!\n",
      "Division operation complete.\n"
     ]
    }
   ],
   "source": [
    "def divide_numbers(a, b):\n",
    "    try:\n",
    "        result = a / b\n",
    "        print(\"Result:\", result)\n",
    "    except ZeroDivisionError:\n",
    "        print(\"Error: Cannot divide by zero!\")\n",
    "    finally:\n",
    "        print(\"Division operation complete.\")\n",
    "\n",
    "num1 = 10\n",
    "num2 = 0\n",
    "\n",
    "divide_numbers(num1, num2)\n"
   ]
  },
  {
   "cell_type": "markdown",
   "id": "42f28ecf-7c21-4df1-9d3d-bd25490a36f5",
   "metadata": {},
   "source": [
    "c-Raise:The raise statement in Python is used to explicitly raise an exception. It allows you to create and raise your own exceptions, providing a way to handle exceptional conditions specific to your program"
   ]
  },
  {
   "cell_type": "code",
   "execution_count": 5,
   "id": "e9e96567-f33a-453d-88e3-eb5b12c1f666",
   "metadata": {},
   "outputs": [
    {
     "name": "stdout",
     "output_type": "stream",
     "text": [
      "Age cannot be negative.\n"
     ]
    }
   ],
   "source": [
    "def validate_age(age):\n",
    "    if age < 0:\n",
    "        raise ValueError(\"Age cannot be negative.\")\n",
    "    elif age < 18:\n",
    "        raise ValueError(\"You must be 18 or older.\")\n",
    "\n",
    "try:\n",
    "    age = -5\n",
    "    validate_age(age)\n",
    "except ValueError as e:\n",
    "    print(str(e))\n"
   ]
  },
  {
   "cell_type": "markdown",
   "id": "344b021e-0ff4-4e0d-a5a7-a89fdb54b1bc",
   "metadata": {},
   "source": [
    "Q5- What are Custom Exception in python ? Why do we need Custom Exception ? Explain with an example."
   ]
  },
  {
   "cell_type": "markdown",
   "id": "97873757-f4c7-406c-b979-8d7e8028ec1b",
   "metadata": {},
   "source": [
    "Ans-Custom exceptions are user-defined exceptions that inherit from the built-in Exception class or any of its subclasses. Custom exceptions allow you to define your own types of exceptions that are specific to your program or domain. By creating custom exceptions, you can provide more meaningful error messages, handle exceptional conditions uniquely, and organize your code more effectively."
   ]
  },
  {
   "cell_type": "code",
   "execution_count": 6,
   "id": "aad0504a-fcba-46bf-8b6a-18eae99027c0",
   "metadata": {},
   "outputs": [
    {
     "name": "stdout",
     "output_type": "stream",
     "text": [
      "Insufficient funds in the account.\n"
     ]
    }
   ],
   "source": [
    "class InsufficientFundsError(Exception):\n",
    "    pass\n",
    "\n",
    "class BankAccount:\n",
    "    def __init__(self, balance):\n",
    "        self.balance = balance\n",
    "    \n",
    "    def withdraw(self, amount):\n",
    "        if amount > self.balance:\n",
    "            raise InsufficientFundsError(\"Insufficient funds in the account.\")\n",
    "        self.balance -= amount\n",
    "\n",
    "try:\n",
    "    account = BankAccount(100)\n",
    "    account.withdraw(200)\n",
    "except InsufficientFundsError as e:\n",
    "    print(str(e))\n"
   ]
  },
  {
   "cell_type": "markdown",
   "id": "64347185-2f11-4ffd-aa25-95b3f9c6fe9d",
   "metadata": {},
   "source": [
    "Q6-Create a custom exception class. Use the class to handle an exception."
   ]
  },
  {
   "cell_type": "code",
   "execution_count": 7,
   "id": "587a38bc-c8bc-4ba0-98aa-93fd4fa09c40",
   "metadata": {},
   "outputs": [
    {
     "name": "stdout",
     "output_type": "stream",
     "text": [
      "Custom Exception: Cannot divide by zero!\n"
     ]
    }
   ],
   "source": [
    "class CustomException(Exception):\n",
    "    def __init__(self, message):\n",
    "        self.message = message\n",
    "\n",
    "def divide_numbers(a, b):\n",
    "    try:\n",
    "        if b == 0:\n",
    "            raise CustomException(\"Cannot divide by zero!\")\n",
    "        result = a / b\n",
    "        print(\"Result:\", result)\n",
    "    except CustomException as e:\n",
    "        print(\"Custom Exception:\", str(e))\n",
    "\n",
    "num1 = 10\n",
    "num2 = 0\n",
    "\n",
    "divide_numbers(num1, num2)\n"
   ]
  },
  {
   "cell_type": "code",
   "execution_count": null,
   "id": "e88d62da-0bfc-45c0-994f-2ff6c97772f8",
   "metadata": {},
   "outputs": [],
   "source": []
  }
 ],
 "metadata": {
  "kernelspec": {
   "display_name": "Python 3 (ipykernel)",
   "language": "python",
   "name": "python3"
  },
  "language_info": {
   "codemirror_mode": {
    "name": "ipython",
    "version": 3
   },
   "file_extension": ".py",
   "mimetype": "text/x-python",
   "name": "python",
   "nbconvert_exporter": "python",
   "pygments_lexer": "ipython3",
   "version": "3.10.8"
  }
 },
 "nbformat": 4,
 "nbformat_minor": 5
}
